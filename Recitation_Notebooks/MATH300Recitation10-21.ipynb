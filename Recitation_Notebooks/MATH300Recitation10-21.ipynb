{
 "cells": [
  {
   "cell_type": "markdown",
   "metadata": {},
   "source": [
    "# MATH 300: Numerical Analysis I Recitation\n",
    "\n",
    "## Instructor: Liam Doherty\n",
    "\n",
    "## Meeting Time/Place: F 11:00AM, Curtis 453\n",
    "\n",
    "## Office Hours: MRC Hours MR 5p-7p, W 12p-2p, or in Korman 282 by appointment"
   ]
  },
  {
   "cell_type": "markdown",
   "metadata": {},
   "source": [
    "We'll start today with answering any questions about Project 1, or anything about class material and assignments.\n",
    "\n",
    "After questions, we'll have some fun! We'll look at a simplified version of an applied problem that I have encountered in my research that uses a kind of interpolation, so that we can see how concepts we are covering in class are used in a \"real-world\" scenario. In the process, we'll learn basic operation of some important Julia packages, including `Plots.jl` and `DifferentialEquations.jl`."
   ]
  },
  {
   "cell_type": "markdown",
   "metadata": {},
   "source": [
    "Now to the fun! Consider the following differential equation model of a decaying material (e.g., radioactive decay): $\\newline \\newline$\n",
    "$$\n",
    "\\frac{d}{dt}u(t) = -ku(t), \\;\\; u(0) = 1.\n",
    "\\newline\n",
    "$$\n",
    "From your ODE class, recall that this differential equation has the solution $u(t) = e^{-kt}$. The two parameters in this model are the initial amount of substance $u(0)$ and the rate of decay $k$. What we'd like to find out is what the amount of substance is at time $t = 1$, i.e., to compute $u(1)$.\n",
    "\n",
    "Now, an interesting problem: What if we don't know the decay rate $k$? This is, of course, possible in practice, because we may be modeling an unknown material (in which case we don't know its properties), or our substance may be impure (and the impurities may cause some variance in the decay rate of the overall compound). Then we won't be able to directly solve this problem! However, there is a way that we can still produce some meaningful results for the problem. The trick is interpolation!\n",
    "\n",
    "What we'll do is solve the ODE for **several** values of $k$ which approximate reality (some values we use may be less than the \"real\" $k$, some greater) and then interpolate between the solutions we get as a function of $k$ (so we'll get a dataset $\\{(k_{0}, u(1; k_{0})), (k_{1}, u(1; k_{1})), \\dots, (k_{n}, u(1; k_{n}))\\}$ and then interpolate this data).\n",
    "\n",
    "Let's start by seeing how to (numerically) solve this ODE using `DifferentialEquations.jl` for one value of $k$:"
   ]
  },
  {
   "cell_type": "code",
   "execution_count": null,
   "metadata": {},
   "outputs": [],
   "source": [
    "using DifferentialEquations\n",
    "using Plots\n",
    "\n",
    "# Pick a particular k and put it in a parameter vector p\n",
    "p = [1.]\n",
    "\n",
    "# Define right hand side of du/dt = f(u, p, t) (p contains problem parameters)\n",
    "f(u, p, t) = -p[1]*u\n",
    "\n",
    "# Define initial condition\n",
    "u0 = 1.\n",
    "\n",
    "# Define time to integrate (start at 0, and since we want solution at t = 1, finish at t = 1)\n",
    "tspan = (0., 1.)\n",
    "\n",
    "# Wrap everything into an ODEProblem data structure (provided by DifferentialEquations.jl)\n",
    "prob = ODEProblem(f, u0, tspan, p)\n",
    "\n",
    "# Solve the problem\n",
    "sol = solve(prob, reltol = 1e-15)\n",
    "\n",
    "# Plot solution (plot recipes overriden for ODE solution objects)\n",
    "display(plot(sol, title = \"Solution of Decay ODE\", ylabel = \"u(t)\", label = \"u(t)\"))\n",
    "\n",
    "# Extract the amount of substance at the final time t = 1\n",
    "final_amount = sol.u[end]\n",
    "println(\"Amount of substance at time 1: $(final_amount)\")"
   ]
  },
  {
   "cell_type": "markdown",
   "metadata": {},
   "source": [
    "Now, this is the solution for a _particular_ $k$, but we wanted to solve it for many different values of $k$. We could do this with a `for` loop over a vector of different $k$ and plot all the solutions, but `DifferentialEquations.jl` offers an interface for doing [Ensemble Simulations](https://diffeq.sciml.ai/stable/features/ensemble/#ensemble) that makes the coding a bit cleaner (and allows for easy parallelization, which makes it much faster for large numbers of ODEs!). We can set that up in the following way:"
   ]
  },
  {
   "cell_type": "code",
   "execution_count": null,
   "metadata": {},
   "outputs": [],
   "source": [
    "# Define k values to solve for\n",
    "k_vals = LinRange(0, 1, 11)\n",
    "\n",
    "# Function to remake the problem with a new k\n",
    "function prob_func(prob, i, repeat)\n",
    "    @. prob.p = [k_vals[i]]\n",
    "    return prob\n",
    "end\n",
    "\n",
    "# Put all the ODE problems in one structure\n",
    "ensemble_prob = EnsembleProblem(prob, prob_func = prob_func)\n",
    "\n",
    "# Solve all the problems at the same time\n",
    "sim = solve(ensemble_prob, trajectories = 11, reltol = 1e-15)\n",
    "\n",
    "# Plot all the solutions at the same time\n",
    "display(plot(sim, title = \"Solutions for Different Parameters\", ylabel = \"u(t; k)\",\n",
    "    label = [\"k = $(k_vals[i])\" for i in (1:length(k_vals))'], legend = :outertopright))\n",
    "\n",
    "# Find out what all of the end solutions are for each k\n",
    "final_states = [(k_vals[i], sim[i].u[end]) for i in 1:length(k_vals)]"
   ]
  },
  {
   "cell_type": "markdown",
   "metadata": {},
   "source": [
    "We can also show these points as a scatter plot against $k$:"
   ]
  },
  {
   "cell_type": "code",
   "execution_count": null,
   "metadata": {},
   "outputs": [],
   "source": [
    "scatter(final_states, xlabel = \"k\", ylabel = \"u(1; k)\",\n",
    "        title = \"Final State by k Value\", legend = :none)"
   ]
  },
  {
   "cell_type": "markdown",
   "metadata": {},
   "source": [
    "Now, we are set up in exactly the position that we want to be in to interpolate the data! Remember, for interpolation we need to be given data in $(x, y)$ pairs, which is exactly what we have! We can use `DataInterpolations.jl` to construct Lagrange interpolants given a collection of data."
   ]
  },
  {
   "cell_type": "code",
   "execution_count": null,
   "metadata": {},
   "outputs": [],
   "source": [
    "using DataInterpolations\n",
    "\n",
    "# Degree of the polynomial is one less than the number of data points\n",
    "n = length(final_states) - 1\n",
    "\n",
    "# Get final u values and their correspoding k values in their own vectors\n",
    "us = [final_states[i][2] for i in 1:length(final_states)]\n",
    "ks = [final_states[i][1] for i in 1:length(final_states)]\n",
    "\n",
    "# Construct the Lagrange interpolant\n",
    "interpolant = LagrangeInterpolation(us, ks, n)\n",
    "\n",
    "# Evaluate the interpolant on a fine grid and plot\n",
    "fine_grid = LinRange(0, 1, 100)\n",
    "plot!(fine_grid, interpolant.(fine_grid))"
   ]
  },
  {
   "cell_type": "markdown",
   "metadata": {},
   "source": [
    "Now, we can use this interpolant to make guesses about what the solution of the ODE would be with a decay rate that we haven't used! For example, let's look at what happens when we predict the final solution at $k = 0.55$:"
   ]
  },
  {
   "cell_type": "code",
   "execution_count": null,
   "metadata": {},
   "outputs": [],
   "source": [
    "estimated_solution = interpolant(0.55)"
   ]
  },
  {
   "cell_type": "markdown",
   "metadata": {},
   "source": [
    "Now, compare to the actual solution:"
   ]
  },
  {
   "cell_type": "code",
   "execution_count": null,
   "metadata": {},
   "outputs": [],
   "source": [
    "# Pick a particular k and put it in a parameter vector p\n",
    "p = [0.55]\n",
    "\n",
    "# Define right hand side of du/dt = f(u, p, t) (p contains problem parameters)\n",
    "f(u, p, t) = -p[1]*u\n",
    "\n",
    "# Define initial condition\n",
    "u0 = 1.\n",
    "\n",
    "# Define time to integrate (start at 0, and since we want solution at t = 1, finish at t = 1)\n",
    "tspan = (0., 1.)\n",
    "\n",
    "# Wrap everything into an ODEProblem data structure (provided by DifferentialEquations.jl)\n",
    "prob = ODEProblem(f, u0, tspan, p)\n",
    "\n",
    "# Solve the problem\n",
    "sol = solve(prob, reltol = 1e-15)\n",
    "\n",
    "# Extract the final state at time 1\n",
    "final_state = sol.u[end]"
   ]
  },
  {
   "cell_type": "markdown",
   "metadata": {},
   "source": [
    "What's our absolute error?"
   ]
  },
  {
   "cell_type": "code",
   "execution_count": null,
   "metadata": {},
   "outputs": [],
   "source": [
    "abs(estimated_solution - final_state)"
   ]
  },
  {
   "cell_type": "markdown",
   "metadata": {},
   "source": [
    "Pretty good! Also, recalling our solution as a function of $k$ is given by $u(1; k) = e^{-k}$, we can use the Lagrange error bound from Theorem 3.3. This would give (replacing $u(1; x)$ by $f(x)$ for notational simplicity) $\\newline \\newline$\n",
    "$$\n",
    "\\begin{align*}\n",
    "    |f(x) - P(x)| &\\leq \\max_{x \\in [0, 1]}\\Big|\\frac{f^{(11)}(\\xi(x))}{11!}\\prod_{i = 0}^{10}(x - x_{i})\\Big| \\\\\n",
    "    &\\leq \\frac{1}{11!}\\max_{x \\in [0, 1]}\\big|x(x- 0.1)(x - 0.2)\\dots(x - 0.9)(x - 1)\\big| \\\\\n",
    "    &\\leq \\frac{1}{11!} (4.16614 \\times 10^{-6}) \\approx 1.044 \\times 10^{-13},\n",
    "\\end{align*}\n",
    "\\newline\n",
    "$$\n",
    "which captures our error.\n",
    "\n",
    "We could get even better results than this if we invested more up front to solve the ODE at more interpolation nodes (this method is sometimes called **(stochastic) collocation**). Furthermore, notice that we have reduced the computational cost for running the problem for getting a solution with a new $k$; now, instead of solving an ODE (which can be very expensive with large or stiff systems!), all we have to do is evaluate a polynomial."
   ]
  },
  {
   "cell_type": "code",
   "execution_count": null,
   "metadata": {},
   "outputs": [],
   "source": [
    "using BenchmarkTools\n",
    "\n",
    "println(\"Timing interpolant...\")\n",
    "@btime interpolant(0.55)\n",
    "\n",
    "println(\"Timing ODE solve...\")\n",
    "@btime solve(prob);"
   ]
  },
  {
   "cell_type": "markdown",
   "metadata": {},
   "source": [
    "Notice that timing the interpolant, we get just under 1 microsecond, whereas the ODE solve takes about 5 times as long (and runs with almost 10 times the allocations!). This is another benefit of using interpolation; if we can reasonably simplify our problem to evaluating some interpolant, it can lead to **dramatic** performance improvements for future evaluations with a little bit of computational cost upfront to construct the interpolant. Generally, this technique of using one function in place of another function is called using a **surrogate**."
   ]
  }
 ],
 "metadata": {
  "kernelspec": {
   "display_name": "Julia 1.8.2",
   "language": "julia",
   "name": "julia-1.8"
  },
  "language_info": {
   "file_extension": ".jl",
   "mimetype": "application/julia",
   "name": "julia",
   "version": "1.8.2"
  }
 },
 "nbformat": 4,
 "nbformat_minor": 4
}
