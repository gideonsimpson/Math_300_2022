{
 "cells": [
  {
   "cell_type": "markdown",
   "metadata": {},
   "source": [
    "# MATH 300: Numerical Analysis I Recitation\n",
    "\n",
    "## Instructor: Liam Doherty\n",
    "\n",
    "## Meeting Time/Place: F 11:00AM, Curtis 453\n",
    "\n",
    "## Office Hours: MRC Hours MR 5p-7p, W 12p-2p, or in Korman 282 by appointment"
   ]
  },
  {
   "cell_type": "markdown",
   "metadata": {},
   "source": [
    "Today we'll be covering cubic splines and numerical differentiation. Project 1 has been graded."
   ]
  },
  {
   "cell_type": "markdown",
   "metadata": {},
   "source": [
    "# Problem 3.5.1\n",
    "\n",
    "Determine the natural cubic spline $S$ that interpolates the data $f(0) = 0$, $f(1) = 1$, and $f(2) = 2$."
   ]
  },
  {
   "cell_type": "markdown",
   "metadata": {},
   "source": [
    "## Solution: \n",
    "\n",
    "On $[0, 1]$ we will have a cubic polynomial $\\newline \\newline$\n",
    "$$\n",
    "S_{0}(x) = a_{0} + b_{0}x + c_{0}x^{2} + d_{0}x^{3},\n",
    "\\newline\n",
    "$$\n",
    "and we will have a similar cubic polynomial on $[1, 2]$: $\\newline \\newline$\n",
    "$$\n",
    "S_{1}(x) = a_{1} + b_{1}(x - 1) + c_{1}(x - 1)^{2} + d_{1}(x - 1)^{3}\n",
    "\\newline\n",
    "$$\n",
    "There are eight unknowns $\\{a_{0}, b_{0}, c_{0}, d_{0}, a_{1}, b_{1}, c_{1}, d_{1}\\}$, so we need eight linear equations to be able to solve for them. Four equations are obvious from the interpolation requirement: $\\newline \\newline$\n",
    "$$\n",
    "\\begin{align*}\n",
    "    S_{0}(0) = 0 &\\implies a_{0} = 0, \\\\\n",
    "    S_{0}(1) = 1 &\\implies a_{0} + b_{0} + c_{0} + d_{0} = 1, \\\\\n",
    "    S_{1}(1) = 1 &\\implies a_{1} = 1, \\\\\n",
    "    S_{1}(2) = 2 &\\implies a_{1} + b_{1} + c_{1} + d_{1} = 2.\n",
    "\\end{align*}\n",
    "\\newline\n",
    "$$\n",
    "The other four come from restrictions on the derivatives of the cubic spline. Two come from the fact that the spline's first and second derivatives must match on the interior nodes: $\\newline \\newline$\n",
    "$$\n",
    "\\begin{align*}\n",
    "    S_{0}'(1) = S_{1}'(1) &\\implies b_{0} + 2c_{0} + 3d_{0} - b_{1} = 0, \\\\\n",
    "    S_{0}''(1) = S_{1}''(1) &\\implies 2c_{0} + 6d_{0} - 2c_{1} = 0.\n",
    "\\end{align*}\n",
    "\\newline\n",
    "$$\n",
    "The final two equations come from the fact that since we have a natural spline, we assert that the second derivative at the outer edges is zero: $\\newline \\newline$\n",
    "$$\n",
    "\\begin{align*}\n",
    "    S_{0}''(0) = 0 &\\implies 2c_{0} = 0, \\\\\n",
    "    S_{1}''(2) = 0 &\\implies 2c_{1} + 6d_{1} = 0.\n",
    "\\end{align*}\n",
    "\\newline\n",
    "$$\n",
    "We now have eight linear equations in eight unknowns, so we package this as a solution to a linear system as follows: Solve for $\\mathbf{x}$ in $\\newline \\newline$\n",
    "$$\n",
    "\\begin{bmatrix}\n",
    "    1 & 0 & 0 & 0 & 0 & 0 & 0 & 0 \\\\\n",
    "    1 & 1 & 1 & 1 & 0 & 0 & 0 & 0 \\\\\n",
    "    0 & 0 & 0 & 0 & 1 & 0 & 0 & 0 \\\\\n",
    "    0 & 0 & 0 & 0 & 1 & 1 & 1 & 1 \\\\\n",
    "    0 & 1 & 2 & 3 & 0 & -1 & 0 & 0 \\\\\n",
    "    0 & 0 & 2 & 6 & 0 & 0 & -2 & 0 \\\\\n",
    "    0 & 0 & 2 & 0 & 0 & 0 & 0 & 0 \\\\\n",
    "    0 & 0 & 0 & 0 & 0 & 0 & 2 & 6 \\\\\n",
    "\\end{bmatrix}\n",
    "\\mathbf{x} =\n",
    "\\begin{bmatrix}\n",
    "    0 \\\\\n",
    "    1 \\\\\n",
    "    1 \\\\\n",
    "    2 \\\\\n",
    "    0 \\\\\n",
    "    0 \\\\\n",
    "    0 \\\\\n",
    "    0\n",
    "\\end{bmatrix}.\n",
    "\\newline\n",
    "$$\n",
    "A tedious (but doable) computation shows that $\\newline \\newline$\n",
    "$$\n",
    "\\mathbf{x} = \n",
    "\\begin{bmatrix}\n",
    "    0 \\\\\n",
    "    1 \\\\\n",
    "    0 \\\\\n",
    "    0 \\\\\n",
    "    1 \\\\\n",
    "    1 \\\\\n",
    "    0 \\\\\n",
    "    0\n",
    "\\end{bmatrix}.\n",
    "$$\n",
    "Therefore, $S_{0}(x) = x$ and $S_{1}(x) = x$."
   ]
  },
  {
   "cell_type": "code",
   "execution_count": null,
   "metadata": {},
   "outputs": [],
   "source": [
    "using Plots\n",
    "data = [(0, 0), (1, 1), (2, 2)]\n",
    "xs_first = 0:0.01:1\n",
    "xs_second = 1:0.01:2\n",
    "S₀(x) = x\n",
    "S₁(x) = x\n",
    "plot(xs_first, S₀.(xs_first), label = \"S₀\", title = \"Natural Cubic Spline\", legend = :topleft)\n",
    "plot!(xs_second, S₁.(xs_second), label = \"S₁\")\n",
    "scatter!(data, label = \"Data\")"
   ]
  },
  {
   "cell_type": "markdown",
   "metadata": {},
   "source": [
    "# Problem 3.5.2\n",
    "\n",
    "Determine the clamped cubic spline $S$ that interpolates the data $f(0) = 0$, $f(1) = 1$, and $f(2) = 2$ and satisfies $S'(0) = S'(2) = 1$."
   ]
  },
  {
   "cell_type": "markdown",
   "metadata": {},
   "source": [
    "If we set up the cubic splines in the same way as the last problem, all but the last two conditions stay the same. Given $\\newline \\newline$\n",
    "$$\n",
    "S_{0}(x) = a_{0} + b_{0}x + c_{0}x^{2} + d_{0}x^{3},\n",
    "\\newline\n",
    "$$\n",
    "on $[0, 1]$ and\n",
    "$$\n",
    "S_{1}(x) = a_{1} + b_{1}(x - 1) + c_{1}(x - 1)^{2} + d_{1}(x - 1)^{3}\n",
    "\\newline\n",
    "$$\n",
    "on $[1, 2]$, we have $\\newline \\newline$\n",
    "$$\n",
    "\\begin{align*}\n",
    "    S_{0}(0) = 0 &\\implies a_{0} = 0, \\\\\n",
    "    S_{0}(1) = 1 &\\implies a_{0} + b_{0} + c_{0} + d_{0} = 1, \\\\\n",
    "    S_{1}(1) = 1 &\\implies a_{1} = 1, \\\\\n",
    "    S_{1}(2) = 2 &\\implies a_{1} + b_{1} + c_{1} + d_{1} = 2\n",
    "\\end{align*}\n",
    "\\newline\n",
    "$$\n",
    "and $\\newline \\newline$\n",
    "$$\n",
    "\\begin{align*}\n",
    "    S_{0}'(1) = S_{1}'(1) &\\implies b_{0} + 2c_{0} + 3d_{0} - b_{1} = 0, \\\\\n",
    "    S_{0}''(1) = S_{1}''(1) &\\implies 2c_{0} + 6d_{0} - 2c_{1} = 0,\n",
    "\\end{align*}\n",
    "\\newline\n",
    "$$\n",
    "as before. However, now we have the conditions on the first derivative at the outer nodes, which make this a clamped spline: $\\newline \\newline$\n",
    "$$\n",
    "\\begin{align*}\n",
    "    S_{0}'(0) = 1 &\\implies b_{0} = 1, \\\\\n",
    "    S_{1}'(2) = 1 &\\implies b_{1} + 2c_{1} + 3d_{1} = 1.\n",
    "\\end{align*}\n",
    "\\newline\n",
    "$$\n",
    "Now, our linear system becomes $\\newline \\newline$\n",
    "$$\n",
    "\\begin{bmatrix}\n",
    "    1 & 0 & 0 & 0 & 0 & 0 & 0 & 0 \\\\\n",
    "    1 & 1 & 1 & 1 & 0 & 0 & 0 & 0 \\\\\n",
    "    0 & 0 & 0 & 0 & 1 & 0 & 0 & 0 \\\\\n",
    "    0 & 0 & 0 & 0 & 1 & 1 & 1 & 1 \\\\\n",
    "    0 & 1 & 2 & 3 & 0 & -1 & 0 & 0 \\\\\n",
    "    0 & 0 & 2 & 6 & 0 & 0 & -2 & 0 \\\\\n",
    "    0 & 1 & 0 & 0 & 0 & 0 & 0 & 0 \\\\\n",
    "    0 & 0 & 0 & 0 & 0 & 1 & 2 & 3 \\\\\n",
    "\\end{bmatrix}\n",
    "\\mathbf{x} =\n",
    "\\begin{bmatrix}\n",
    "    0 \\\\\n",
    "    1 \\\\\n",
    "    1 \\\\\n",
    "    2 \\\\\n",
    "    0 \\\\\n",
    "    0 \\\\\n",
    "    1 \\\\\n",
    "    1\n",
    "\\end{bmatrix}.\n",
    "\\newline\n",
    "$$\n",
    "Unsurprisingly, we get the same vector $\\mathbf{x}$ as before, leading to the solution $S_{0}(x) = x$ and $S_{1}(x) = x$."
   ]
  },
  {
   "cell_type": "markdown",
   "metadata": {},
   "source": [
    "# Problems 3.5.3b/3.5.5b\n",
    "\n",
    "Construct the natural cubic spline for the following data:\n",
    "\n",
    "| $x$ | $f(x)$ |\n",
    "| --- | --- |\n",
    "| $0.8$ | $0.22363362$ |\n",
    "| $1.0$ | $0.65809197$ |\n",
    "\n",
    "This data was generated using $f(x) = \\sin(e^{x} - 2)$. Use the spline to approximate $f(0.9)$ and $f'(0.9)$, and then calculate the actual error."
   ]
  },
  {
   "cell_type": "markdown",
   "metadata": {},
   "source": [
    "## Solution:\n",
    "\n",
    "Let $\\newline \\newline$\n",
    "$$\n",
    "S(x) = a + b(x - 0.8) + c(x - 0.8)^{2} + d(x - 0.8)^{3}.\n",
    "\\newline\n",
    "$$\n",
    "Then, the interpolation conditions give $\\newline \\newline$\n",
    "$$\n",
    "\\begin{align*}\n",
    "    S(0.8) = 0.22363362 &\\implies a = 0.22363362, \\\\\n",
    "    S(1) = 0.65809197 &\\implies a + 0.2b + 0.04c + 0.008d = 0.65809197.\n",
    "\\end{align*}\n",
    "\\newline\n",
    "$$\n",
    "The natural boundary conditions are $\\newline \\newline$\n",
    "$$\n",
    "\\begin{align*}\n",
    "    S''(0.8) = 0 &\\implies 2c = 0, \\\\\n",
    "    S''(1) = 0 &\\implies 2c + 1.2d = 0.\n",
    "\\end{align*}\n",
    "\\newline\n",
    "$$\n",
    "Therefore, our linear system is $\\newline \\newline$\n",
    "$$\n",
    "\\begin{bmatrix}\n",
    "    1 & 0 & 0 & 0 \\\\\n",
    "    1 & 0.2 & 0.04 & 0.008 \\\\\n",
    "    0 & 0 & 2 & 0 \\\\\n",
    "    0 & 0 & 2 & 1.2 \\\\\n",
    "\\end{bmatrix}\n",
    "\\mathbf{x} =\n",
    "\\begin{bmatrix}\n",
    "    0.22363362 \\\\\n",
    "    0.65809197 \\\\\n",
    "    0 \\\\\n",
    "    0 \n",
    "\\end{bmatrix}.\n",
    "\\newline\n",
    "$$\n",
    "Solving, we get $\\newline \\newline$\n",
    "$$\n",
    "\\mathbf{x} =\n",
    "\\begin{bmatrix}\n",
    "    0.22363362 \\\\\n",
    "    2.1364304 \\\\\n",
    "    0 \\\\\n",
    "    0\n",
    "\\end{bmatrix}\n",
    "$$\n",
    "This means our spline is $\\newline \\newline$\n",
    "$$\n",
    "S(x) = 0.22363362 + 2.17229175(x - 0.8) = 2.17229175x - 1.51419978.\n",
    "\\newline\n",
    "$$"
   ]
  },
  {
   "cell_type": "code",
   "execution_count": null,
   "metadata": {},
   "outputs": [],
   "source": [
    "data = [(0.8, 0.22363362), (1., 0.65809197)]\n",
    "xs = 0.8:0.01:1.\n",
    "S(x) = 2.17229175*x - 1.51419978\n",
    "plot(xs, S.(xs), label = \"S\", title = \"Natural Cubic Spline\", legend = :topleft)\n",
    "scatter!(data, label = \"Data\")\n",
    "f(x) = sin(exp(x) - 2)\n",
    "plot!(xs, true_function.(xs), label = \"f\")"
   ]
  },
  {
   "cell_type": "markdown",
   "metadata": {},
   "source": [
    "We see that the original function is very close to the spline approximation on the interval. We can easily compute the difference of the function values at $x = 0.9$:"
   ]
  },
  {
   "cell_type": "code",
   "execution_count": null,
   "metadata": {},
   "outputs": [],
   "source": [
    "abs(S(0.9) - f(0.9))"
   ]
  },
  {
   "cell_type": "markdown",
   "metadata": {},
   "source": [
    "To see the difference in the derivatives, note that $f'(x) = e^{x}\\cos(e^{x} - 2)$ and $S'(x) = 2.17229175$:"
   ]
  },
  {
   "cell_type": "code",
   "execution_count": null,
   "metadata": {},
   "outputs": [],
   "source": [
    "f_prime(x) = exp(x)*cos(exp(x) - 2)\n",
    "S_prime(x) = 2.17229175\n",
    "\n",
    "abs(f_prime(0.9) - S_prime(0.9))"
   ]
  },
  {
   "cell_type": "markdown",
   "metadata": {},
   "source": [
    "Pretty good! We can use the Julia package `Dierckx.jl` to automate this process for us:"
   ]
  },
  {
   "cell_type": "code",
   "execution_count": null,
   "metadata": {},
   "outputs": [],
   "source": [
    "using Dierckx\n",
    "x = [0.8, 1.]\n",
    "y = [0.22363362, 0.65809197]\n",
    "spl = Spline1D(x, y, k = 1)\n",
    "abs(spl(0.9) - f(0.9))"
   ]
  },
  {
   "cell_type": "markdown",
   "metadata": {},
   "source": [
    "`Dierckx.jl` also supports derivatives directly:"
   ]
  },
  {
   "cell_type": "code",
   "execution_count": null,
   "metadata": {},
   "outputs": [],
   "source": [
    "abs(derivative(spl, 0.9) - f_prime(0.9))"
   ]
  },
  {
   "cell_type": "markdown",
   "metadata": {},
   "source": [
    "which aligns with what we got previously."
   ]
  },
  {
   "cell_type": "markdown",
   "metadata": {},
   "source": [
    "# Problem 4.1.1a/4.1.3a\n",
    "\n",
    "Use the forward and backward difference formulas to determine each missing entry in the following table:\n",
    "\n",
    "| $x$ | $f(x)$ | $f'(x)$ |\n",
    "| --- | --- | --- |\n",
    "| $0.5$ | $0.4794$ | |\n",
    "| $0.6$ | $0.5646$ | |\n",
    "| $0.7$ | $0.6442$ | |\n",
    "\n",
    "This data was generated with $f(x) = \\sin(x)$. Compute the actual errors, and find the error bounds with the error formulas."
   ]
  },
  {
   "cell_type": "markdown",
   "metadata": {},
   "source": [
    "## Solution:\n",
    "\n",
    "For the first entry, i.e., the approximation of $f'(0.5)$, we are forced to use the forward difference formula (as we have no points to the left of $x = 0.5$ to use the backward difference formula). We obtain $\\newline \\newline$\n",
    "$$\n",
    "f'(0.5) \\approx \\frac{0.5646 - 0.4794}{0.6 - 0.5} = 0.852.\n",
    "\\newline\n",
    "$$\n",
    "Likewise, for the entry approximating $f'(0.7)$, we are forced to use the backward difference approximation. We find $\\newline \\newline$\n",
    "$$\n",
    "f'(0.7) \\approx \\frac{0.6442 - 0.5646}{0.7 - 0.6} = 0.796.\n",
    "\\newline\n",
    "$$\n",
    "For the middle entry, we have flexibility. We could either do the forward difference, corresponding to using the information from $x = 0.7$, or we could do the backward difference corresponding to the information from $x = 0.5$. The two valid tables are therefore\n",
    "\n",
    "| $x$ | $f(x)$ | $f'(x)$ |\n",
    "| --- | --- | --- |\n",
    "| $0.5$ | $0.4794$ | $0.852$ |\n",
    "| $0.6$ | $0.5646$ | $0.852$ |\n",
    "| $0.7$ | $0.6442$ | $0.796$ |\n",
    "\n",
    "and\n",
    "\n",
    "| $x$ | $f(x)$ | $f'(x)$ |\n",
    "| --- | --- | --- |\n",
    "| $0.5$ | $0.4794$ | $0.852$ |\n",
    "| $0.6$ | $0.5646$ | $0.796$ |\n",
    "| $0.7$ | $0.6442$ | $0.796$ |\n",
    "\n",
    "We can compute the actual error using the fact that $f'(x) = \\cos(x)$:"
   ]
  },
  {
   "cell_type": "code",
   "execution_count": null,
   "metadata": {},
   "outputs": [],
   "source": [
    "# error at x = 0.5\n",
    "abs(cos(0.5) - 0.852)"
   ]
  },
  {
   "cell_type": "code",
   "execution_count": null,
   "metadata": {},
   "outputs": [],
   "source": [
    "# backward difference error at x = 0.6\n",
    "abs(cos(0.6) - 0.852)"
   ]
  },
  {
   "cell_type": "code",
   "execution_count": null,
   "metadata": {},
   "outputs": [],
   "source": [
    "# forward difference error at x = 0.6\n",
    "abs(cos(0.6) - 0.796)"
   ]
  },
  {
   "cell_type": "code",
   "execution_count": null,
   "metadata": {},
   "outputs": [],
   "source": [
    "# error at x = 0.7\n",
    "abs(cos(0.7) - 0.796)"
   ]
  },
  {
   "cell_type": "markdown",
   "metadata": {},
   "source": [
    "Notice that the forward and backward difference at $x = 0.6$ are the same distance on either side of the true solution. This means their average should be even more accurate. This will motivate the centered difference scheme later on. For now, we can use the error bound obtained directly from the Taylor expansion to see that the errors we obtained do indeed sit below the theoretical bound: For $x = 0.5$ we have $\\newline \\newline$\n",
    "$$\n",
    "\\begin{align*}\n",
    "    \\Big|f'(0.5) - \\frac{f(0.6) - f(0.5)}{0.6 - 0.5}\\Big| &\\leq \\frac{0.6 - 0.5}{2}\\max_{\\xi \\in [0.5, 0.6]}|f''(\\xi)| \\\\\n",
    "    &\\leq 0.05\\sin(0.6) \\approx 0.028232,\n",
    "\\end{align*}\n",
    "\\newline\n",
    "$$\n",
    "which contains our error of $0.02558$.\n",
    "\n",
    "For $x = 0.7$, we have $\\newline \\newline$\n",
    "$$\n",
    "\\begin{align*}\n",
    "    \\Big|f'(0.7) - \\frac{f(0.7) - f(0.6)}{0.7 - 0.6}\\Big| &\\leq \\frac{0.7 - 0.6}{2}\\max_{\\xi \\in [0.6, 0.7]}|f''(\\xi)| \\\\\n",
    "    &\\leq 0.05\\sin(0.7) \\approx 0.03221,\n",
    "\\end{align*}\n",
    "\\newline\n",
    "$$\n",
    "which contains our error of $0.03116$.\n",
    "\n",
    "For $x = 0.6$, we have for the forward difference $\\newline \\newline$\n",
    "$$\n",
    "\\begin{align*}\n",
    "    \\Big|f'(0.6) - \\frac{f(0.7) - f(0.6)}{0.7 - 0.6}\\Big| &\\leq \\frac{0.7 - 0.6}{2}\\max_{\\xi \\in [0.6, 0.7]}|f''(\\xi)| \\\\\n",
    "    &\\leq 0.05\\sin(0.7) \\approx 0.03221,\n",
    "\\end{align*}\n",
    "\\newline\n",
    "$$\n",
    "which contains our error of $0.02934$.\n",
    "\n",
    "For the backward difference, we have $\\newline \\newline$\n",
    "$$\n",
    "\\begin{align*}\n",
    "    \\Big|f'(0.6) - \\frac{f(0.6) - f(0.5)}{0.6 - 0.5}\\Big| &\\leq \\frac{0.6 - 0.5}{2}\\max_{\\xi \\in [0.5, 0.6]}|f''(\\xi)| \\\\\n",
    "    &\\leq 0.05\\sin(0.6) \\approx 0.028232,\n",
    "\\end{align*}\n",
    "\\newline\n",
    "$$\n",
    "which contains our error of $0.02666$.\n",
    "\n",
    "A note beyond the scope of the class: Although it seems arbitrary whether we select forward or backward difference schemes for data in the \"middle\" of our dataset, there are places where it makes a big difference! In numerical differential equations (which will likely be covered in the second quarter of the class), it can be found that backward Euler based schemes for discretizing your differential equations are (unconditionally) stable (meaning they don't experience any numerical blow-up or anything horrible that would corrupt your solution), whereas forward Euler based methods do not share this luxury."
   ]
  }
 ],
 "metadata": {
  "kernelspec": {
   "display_name": "Julia 1.8.2",
   "language": "julia",
   "name": "julia-1.8"
  },
  "language_info": {
   "file_extension": ".jl",
   "mimetype": "application/julia",
   "name": "julia",
   "version": "1.8.2"
  }
 },
 "nbformat": 4,
 "nbformat_minor": 4
}
