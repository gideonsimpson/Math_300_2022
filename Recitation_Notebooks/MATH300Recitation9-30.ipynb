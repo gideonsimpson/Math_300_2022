{
 "cells": [
  {
   "cell_type": "markdown",
   "metadata": {},
   "source": [
    "# MATH 300: Numerical Analysis I Recitation\n",
    "\n",
    "## Instructor: Liam Doherty\n",
    "\n",
    "## Meeting Time/Place: F 11:00AM, Curtis 453\n",
    "\n",
    "## Office Hours: MRC Hours MR 5p-7p, W 12p-2p, or in Korman 282 by appointment"
   ]
  },
  {
   "cell_type": "markdown",
   "metadata": {},
   "source": [
    "Today, we will do some practice problems for the Bisection method and fixed point iteration. We start with code for the Bisection method:"
   ]
  },
  {
   "cell_type": "code",
   "execution_count": 2,
   "metadata": {},
   "outputs": [
    {
     "data": {
      "text/plain": [
       "bisection (generic function with 1 method)"
      ]
     },
     "execution_count": 2,
     "metadata": {},
     "output_type": "execute_result"
    }
   ],
   "source": [
    "function bisection(a::Real, b::Real, f::Function; abs_tol = 1e-5, max_iters = 100)\n",
    "    # Check that the conditions of the algorithm are satisfied and we have not already located a zero\n",
    "    @assert f(a)*f(b) ≤ 0 \"Not in an interval with a sign change!\"\n",
    "    @assert (f(a) != 0) & (f(b) != 0) \"One or both of the endpoints are zeros!\"\n",
    "    \n",
    "    converged = false\n",
    "    n = 0\n",
    "    \n",
    "    while !converged\n",
    "        n += 1\n",
    "        \n",
    "        # Main step for algorithm\n",
    "        p = (a + b)/2\n",
    "        if f(a)*f(p) < 0\n",
    "             b = p\n",
    "        elseif f(b)*f(p) < 0\n",
    "            a = p\n",
    "        else\n",
    "            println(\"Found exact zero at midpoint of iteration $(n)\")\n",
    "            return p\n",
    "        end\n",
    "        \n",
    "        # Status updates\n",
    "        println(\"a: $(a), b: $(b), n: $(n)\")\n",
    "        \n",
    "        # Check convergence\n",
    "        if b - a < abs_tol\n",
    "            converged = true\n",
    "            return p\n",
    "        end\n",
    "        \n",
    "        # Return if algorithm does not converge\n",
    "        if n == max_iters\n",
    "            println(\"Did not converge in $(max_iters) iterations! Returning last value of p.\")\n",
    "            return p\n",
    "        end\n",
    "    end\n",
    "end"
   ]
  },
  {
   "cell_type": "markdown",
   "metadata": {},
   "source": [
    "We'll take a look at some problems from Section 2.1 of the textbook, do them by hand, and then check the computation with Julia:"
   ]
  },
  {
   "cell_type": "markdown",
   "metadata": {},
   "source": [
    "# Problem 2.1.4(d)\n",
    "\n",
    "Use the bisection method to find solutions accurate to within $10^{-2}$ for $\\newline \\newline$\n",
    "$$\n",
    "f(x) = x^{4} - 2x^{3} - 4x^{2} + 4x + 4\n",
    "\\newline\n",
    "$$\n",
    "on $[-1, 0]$."
   ]
  },
  {
   "cell_type": "markdown",
   "metadata": {},
   "source": [
    "## Solution:\n",
    "\n",
    "We will only do up to $10^{-1}$ tolerance by hand, as the iterations to get to $10^{-2}$ follow the same process. We'll first check that the conditions for the algorithm to converge are satisfied. It is clear that $f$ is continuous as it is a polynomial. Further, $\\newline \\newline$\n",
    "$$\n",
    "f(-1) = -1; \\;\\;\\; f(0) = 4,\n",
    "\\newline\n",
    "$$\n",
    "so we can apply the Bisection method.\n",
    "\n",
    "In our first iteration, we cut the interval in half to get $p_{1} = -0.5$. We have $\\newline \\newline$\n",
    "$$\n",
    "f(-0.5) = 1.3125 > 0,\n",
    "\\newline\n",
    "$$\n",
    "so our _right_ endpoint will be replaced with $p_{1} = -0.5$ to maintain the conditions of the algorithm. The absolute error is now only bounded by $\\frac{b - a}{2} = \\frac{1}{2}$, so we have not yet reached the desired tolerance and we continue.\n",
    "\n",
    "For the second iteration, our starting interval is $[-1, -0.5]$. We cut this in half for $p_{2} = -0.75$, and find that\n",
    "$$\n",
    "f(-0.75) \\approx -0.0898 < 0,\n",
    "\\newline\n",
    "$$\n",
    "so now we will replace the _left_ endpoint. Our new interval is $[-0.75, -0.5]$, and the guaranteed tolerance is now $\\frac{b - a}{2^2} = \\frac{1}{4}$, so we continue.\n",
    "\n",
    "Our third iteration's midpoint is $p_{3} = -0.625$, and we find $\\newline \\newline$\n",
    "$$\n",
    "f(-0.625) \\approx 0.5784 > 0,\n",
    "\\newline\n",
    "$$\n",
    "so we replace our _right_ endpoint. The new interval is $[-0.75, -0.625]$, and our guarantee on the error is that it is no more than $\\frac{1}{8}$.\n",
    "\n",
    "For our final iteration, our midpoint is $p_{4} = -0.6875$, and we have $\\newline \\newline$\n",
    "$$\n",
    "f(-0.6875) \\approx 0.2327 > 0,\n",
    "\\newline\n",
    "$$\n",
    "and we again replace our _right_ endpoint. The interval that we come to is $[-0.75, -0.6875]$. The error bound that we have now guaranteed ourselves is $\\frac{b - a}{2^{4}} = \\frac{1}{16}$, which is within our (modified) tolerance. Let's check these calculations using the function above:"
   ]
  },
  {
   "cell_type": "code",
   "execution_count": 3,
   "metadata": {},
   "outputs": [
    {
     "name": "stdout",
     "output_type": "stream",
     "text": [
      "a: -1, b: -0.5, n: 1\n",
      "a: -0.75, b: -0.5, n: 2\n",
      "a: -0.75, b: -0.625, n: 3\n",
      "a: -0.75, b: -0.6875, n: 4\n",
      "a: -0.75, b: -0.71875, n: 5\n",
      "a: -0.734375, b: -0.71875, n: 6\n",
      "a: -0.734375, b: -0.7265625, n: 7\n"
     ]
    },
    {
     "data": {
      "text/plain": [
       "-0.7265625"
      ]
     },
     "execution_count": 3,
     "metadata": {},
     "output_type": "execute_result"
    }
   ],
   "source": [
    "f(x) = x^4 - 2*x^3 - 4*x^2 + 4*x + 4\n",
    "bisection(-1, 0, f, abs_tol = 1e-2)"
   ]
  },
  {
   "cell_type": "markdown",
   "metadata": {},
   "source": [
    "Great! The output for the first four iterations we did by hand confirm our calculations! Let's take a look at another bisection problem:"
   ]
  },
  {
   "cell_type": "markdown",
   "metadata": {},
   "source": [
    "# Problem 2.1.13\n",
    "\n",
    "Find an approximation to $\\sqrt[3]{25}$ correct to within $10^{-4}$ using the Bisection Algorithm."
   ]
  },
  {
   "cell_type": "markdown",
   "metadata": {},
   "source": [
    "## Solution:\n",
    "\n",
    "Notice that $\\sqrt[3]{25}$ is a solution to the equation $x^{3} - 25 = 0$. Further, we can compute with this equation. It would not make sense to use $x - \\sqrt[3]{25} = 0$, since we cannot compute $\\sqrt[3]{25}$! This means that our function to use the Bisection Algorithm on is $g(x) = x^{3} - 25$. What initial interval should we use? A naive guess would be $[2, 3]$, since $2^{3} = 8 < 25$, and $3^3 = 27 > 25$, so that the number we are looking for will be in this interval. And sure enough, these initial endpoints do satisfy the conditions of the algorithm.\n",
    "\n",
    "We will again go to a tolerance of $10^{-1}$ manually, and check the rest with the computer.\n",
    "\n",
    "For our first iteration, we have $p_{1} = 2.5$, and it is easy to check that $\\newline \\newline$\n",
    "$$\n",
    "g(2.5) = -9.375 < 0,\n",
    "\\newline\n",
    "$$\n",
    "so we replace our _left_ endpoint. The new interval is $[2.5, 3]$, and the error bound is $\\frac{1}{2}$.\n",
    "\n",
    "For our second iteration, we have $p_{2} = 2.75$, and we find that $\\newline \\newline$\n",
    "$$\n",
    "g(2.75) \\approx -4.2031 < 0,\n",
    "\\newline\n",
    "$$\n",
    "so we replace our _left_ endpoint again. The new interval is $[2.75, 3]$, and the error bound is $\\frac{1}{4}$.\n",
    "\n",
    "For our third iteration, we have $p_{3} = 2.875$, and we have $\\newline \\newline$\n",
    "$$\n",
    "g(2.875) = -1.2363 < 0,\n",
    "\\newline\n",
    "$$\n",
    "so we replace our _left_ endpoint another time. The new interval is $[2.875, 3]$, and the error bound is $\\frac{1}{8}$.\n",
    "\n",
    "For our final iteration, we have $p_{4} = 2.9375$, and we compute $\\newline \\newline$\n",
    "$$\n",
    "g(2.9375) = 0.3474 > 0,\n",
    "\\newline\n",
    "$$\n",
    "so we now replace our _right_ endpoint. The new interval is $[2.875, 2.9375]$, and the error bound is $\\frac{1}{16}$, which is in our tolerance.\n",
    "\n",
    "We check the rest with the computer below:"
   ]
  },
  {
   "cell_type": "code",
   "execution_count": 5,
   "metadata": {},
   "outputs": [
    {
     "name": "stdout",
     "output_type": "stream",
     "text": [
      "a: 2.5, b: 3, n: 1\n",
      "a: 2.75, b: 3, n: 2\n",
      "a: 2.875, b: 3, n: 3\n",
      "a: 2.875, b: 2.9375, n: 4\n",
      "a: 2.90625, b: 2.9375, n: 5\n",
      "a: 2.921875, b: 2.9375, n: 6\n",
      "a: 2.921875, b: 2.9296875, n: 7\n",
      "a: 2.921875, b: 2.92578125, n: 8\n",
      "a: 2.923828125, b: 2.92578125, n: 9\n",
      "a: 2.923828125, b: 2.9248046875, n: 10\n",
      "a: 2.923828125, b: 2.92431640625, n: 11\n",
      "a: 2.923828125, b: 2.924072265625, n: 12\n",
      "a: 2.9239501953125, b: 2.924072265625, n: 13\n",
      "a: 2.92401123046875, b: 2.924072265625, n: 14\n"
     ]
    },
    {
     "data": {
      "text/plain": [
       "2.92401123046875"
      ]
     },
     "execution_count": 5,
     "metadata": {},
     "output_type": "execute_result"
    }
   ],
   "source": [
    "g(x) = x^3 - 25\n",
    "bisection(2, 3, g, abs_tol = 1e-4)"
   ]
  },
  {
   "cell_type": "markdown",
   "metadata": {},
   "source": [
    "Now, we'll take a look at a \"Discussion Question\" from the chapter:"
   ]
  },
  {
   "cell_type": "markdown",
   "metadata": {},
   "source": [
    "# 2.1 DQ 1\n",
    "\n",
    "Derive a function $f$ for which the Bisection method converges to a value that is not a zero of $f$."
   ]
  },
  {
   "cell_type": "markdown",
   "metadata": {},
   "source": [
    "## Suggested Solution:\n",
    "\n",
    "The big assumption made by the Bisection method is that the function is continuous, so we will come up with a function that violates that condition, and show computationally how this can be a problem. For the bisection method to converge to a value, we need the function to (locally) have opposite signs. This can be accomplished in many ways, but perhaps the simplest way is to take a function for which the Bisection method would normally converge without issue, and put a hole at the zero that we are trying to locate. As a concrete example, let $\\newline \\newline$\n",
    "$$\n",
    "h(x) =\n",
    "\\begin{cases}\n",
    "    x, x \\neq 0 \\\\\n",
    "    1, x = 0.\n",
    "\\end{cases}\n",
    "\\newline\n",
    "$$\n",
    "Then given any interval containing $x = 0$ as the starting point, the Bisection method will converge to zero, but zero is not actually a root of the function. In fact, the function has no roots at all! We demonstrate this computationally:"
   ]
  },
  {
   "cell_type": "code",
   "execution_count": 6,
   "metadata": {},
   "outputs": [
    {
     "name": "stdout",
     "output_type": "stream",
     "text": [
      "a: -1.0, b: 0.25, n: 1\n",
      "a: -0.375, b: 0.25, n: 2\n",
      "a: -0.0625, b: 0.25, n: 3\n",
      "a: -0.0625, b: 0.09375, n: 4\n",
      "a: -0.0625, b: 0.015625, n: 5\n",
      "a: -0.0234375, b: 0.015625, n: 6\n",
      "a: -0.00390625, b: 0.015625, n: 7\n",
      "a: -0.00390625, b: 0.005859375, n: 8\n",
      "a: -0.00390625, b: 0.0009765625, n: 9\n",
      "a: -0.00146484375, b: 0.0009765625, n: 10\n",
      "a: -0.000244140625, b: 0.0009765625, n: 11\n",
      "a: -0.000244140625, b: 0.0003662109375, n: 12\n",
      "a: -0.000244140625, b: 6.103515625e-5, n: 13\n",
      "a: -9.1552734375e-5, b: 6.103515625e-5, n: 14\n",
      "a: -1.52587890625e-5, b: 6.103515625e-5, n: 15\n",
      "a: -1.52587890625e-5, b: 2.288818359375e-5, n: 16\n",
      "a: -1.52587890625e-5, b: 3.814697265625e-6, n: 17\n",
      "a: -5.7220458984375e-6, b: 3.814697265625e-6, n: 18\n"
     ]
    },
    {
     "data": {
      "text/plain": [
       "-5.7220458984375e-6"
      ]
     },
     "execution_count": 6,
     "metadata": {},
     "output_type": "execute_result"
    }
   ],
   "source": [
    "function h(x::Float64)\n",
    "    if x != 0.\n",
    "        return x\n",
    "    elseif x == 0.\n",
    "        return 1.\n",
    "    end\n",
    "end\n",
    "\n",
    "bisection(-1., 1.5, h)"
   ]
  },
  {
   "cell_type": "markdown",
   "metadata": {},
   "source": [
    "Now, we'll take a look at some examples in Section 2.2 on fixed-point iteration. Here is a function which solves the fixed-point problem:"
   ]
  },
  {
   "cell_type": "code",
   "execution_count": 7,
   "metadata": {},
   "outputs": [
    {
     "data": {
      "text/plain": [
       "fixed_point (generic function with 1 method)"
      ]
     },
     "execution_count": 7,
     "metadata": {},
     "output_type": "execute_result"
    }
   ],
   "source": [
    "function fixed_point(p::Real, f::Function; abs_tol = 1e-5, max_iters = 100)\n",
    "    # Make sure that we did not start at a fixed point already\n",
    "    @assert f(p) != p \"Initial point is a fixed point of the function!\"\n",
    "    \n",
    "    converged = false\n",
    "    n = 0\n",
    "    p_old = p\n",
    "    \n",
    "    while !converged\n",
    "        n += 1\n",
    "        \n",
    "        # Main step for algorithm\n",
    "        p = f(p_old)\n",
    "        \n",
    "        # Status updates\n",
    "        println(\"Old p: $(p_old), New p: $(p), n: $(n)\")\n",
    "        \n",
    "        # Check convergence\n",
    "        if abs(p - p_old) < abs_tol\n",
    "            converged = true\n",
    "            return p\n",
    "        end\n",
    "        \n",
    "        # Return if algorithm does not converge\n",
    "        if n == max_iters\n",
    "            println(\"Did not converge in $(max_iters) iterations! Returning last value of p.\")\n",
    "            return p\n",
    "        end\n",
    "        p_old = p\n",
    "    end\n",
    "end"
   ]
  },
  {
   "cell_type": "markdown",
   "metadata": {},
   "source": [
    "Now, we'll take a look at some problems from Section 2.2, work on them by hand, and then use the computer to check our answers."
   ]
  },
  {
   "cell_type": "markdown",
   "metadata": {},
   "source": [
    "# Problem 2.2.3\n",
    "\n",
    "Let $f(x) = x^{3} - 2x + 1$. To solve $f(x) = 0$, the following four fixed-point problems are proposed. Derive each fixed point method and compute $p_{1}, p_{2}, p_{3}, p_{4}$. Which methods seem to be appropriate?\n",
    "\n",
    "1. $ \\;\\;\\;x = \\frac{1}{2}(x^{3} + 1), \\;\\;\\; p_{0} = \\frac{1}{2}$ $\\newline$\n",
    "\n",
    "2. $ \\;\\;\\;x = \\frac{2}{x} - \\frac{1}{x^{2}}, \\;\\;\\; p_{0} = \\frac{1}{2}$ $\\newline$\n",
    "\n",
    "3. $ \\;\\;\\;x = \\sqrt{2 - \\frac{1}{x}}, \\;\\;\\; p_{0} = \\frac{1}{2}$ $\\newline$\n",
    "\n",
    "4. $ \\;\\;\\;x = -\\sqrt[3]{1 - 2x}, \\;\\;\\; p_{0} = \\frac{1}{2}$ $\\newline$"
   ]
  },
  {
   "cell_type": "markdown",
   "metadata": {},
   "source": [
    "## Solution:\n",
    "\n",
    "We begin by deriving the first method and computing with it. From $x^{3} - 2x + 1 = 0$, we can simply add $2x$ to both sides and divide by $2$ to obtain the method. Now to compute with it: $\\newline \\newline$\n",
    "$$\n",
    "p_{1} = \\frac{1}{2}\\Big((0.5)^{3} + 1\\Big) = 0.5625, \\newline\n",
    "p_{2} = \\frac{1}{2}\\Big((0.5625)^{3} + 1\\Big) \\approx 0.5890, \\newline\n",
    "p_{3} = \\frac{1}{2}\\Big((0.5890)^{3} + 1\\Big) \\approx 0.6022, \\newline\n",
    "p_{4} = \\frac{1}{2}\\Big((0.6022)^{3} + 1\\Big) \\approx 0.6092. \\newline\n",
    "$$\n",
    "\n",
    "We'll check to see if the computer gets something similar:"
   ]
  },
  {
   "cell_type": "code",
   "execution_count": 8,
   "metadata": {},
   "outputs": [
    {
     "name": "stdout",
     "output_type": "stream",
     "text": [
      "Old p: 0.5, New p: 0.5625, n: 1\n",
      "Old p: 0.5625, New p: 0.5889892578125, n: 2\n",
      "Old p: 0.5889892578125, New p: 0.602162644566306, n: 3\n",
      "Old p: 0.602162644566306, New p: 0.6091720424515518, n: 4\n",
      "Old p: 0.6091720424515518, New p: 0.6130290024555829, n: 5\n",
      "Old p: 0.6130290024555829, New p: 0.6151895466090406, n: 6\n",
      "Old p: 0.6151895466090406, New p: 0.616411757546215, n: 7\n",
      "Old p: 0.616411757546215, New p: 0.6171069705010023, n: 8\n",
      "Old p: 0.6171069705010023, New p: 0.6175036508304039, n: 9\n",
      "Old p: 0.6175036508304039, New p: 0.6177303928265216, n: 10\n",
      "Old p: 0.6177303928265216, New p: 0.617860129196818, n: 11\n",
      "Old p: 0.617860129196818, New p: 0.6179344041093612, n: 12\n",
      "Old p: 0.6179344041093612, New p: 0.6179769410211693, n: 13\n",
      "Old p: 0.6179769410211693, New p: 0.6180013063267487, n: 14\n",
      "Old p: 0.6180013063267487, New p: 0.6180152643778877, n: 15\n",
      "Old p: 0.6180152643778877, New p: 0.6180232609643844, n: 16\n"
     ]
    },
    {
     "data": {
      "text/plain": [
       "0.6180232609643844"
      ]
     },
     "execution_count": 8,
     "metadata": {},
     "output_type": "execute_result"
    }
   ],
   "source": [
    "g(x) = (1/2)*(x^3 + 1)\n",
    "fixed_point(1/2, g)"
   ]
  },
  {
   "cell_type": "markdown",
   "metadata": {},
   "source": [
    "Sure enough, it looks like it is converging to the value we wanted. Even better, we can make sure that this is indeed the solution to the original rootfinding problem:"
   ]
  },
  {
   "cell_type": "code",
   "execution_count": 9,
   "metadata": {},
   "outputs": [
    {
     "name": "stdout",
     "output_type": "stream",
     "text": [
      "a: 0.375, b: 0.75, n: 1\n",
      "a: 0.5625, b: 0.75, n: 2\n",
      "a: 0.5625, b: 0.65625, n: 3\n",
      "a: 0.609375, b: 0.65625, n: 4\n",
      "a: 0.609375, b: 0.6328125, n: 5\n",
      "a: 0.609375, b: 0.62109375, n: 6\n",
      "a: 0.615234375, b: 0.62109375, n: 7\n",
      "a: 0.615234375, b: 0.6181640625, n: 8\n",
      "a: 0.61669921875, b: 0.6181640625, n: 9\n",
      "a: 0.617431640625, b: 0.6181640625, n: 10\n",
      "a: 0.6177978515625, b: 0.6181640625, n: 11\n",
      "a: 0.61798095703125, b: 0.6181640625, n: 12\n",
      "a: 0.61798095703125, b: 0.618072509765625, n: 13\n",
      "a: 0.6180267333984375, b: 0.618072509765625, n: 14\n",
      "a: 0.6180267333984375, b: 0.6180496215820312, n: 15\n",
      "a: 0.6180267333984375, b: 0.6180381774902344, n: 16\n",
      "a: 0.6180324554443359, b: 0.6180381774902344, n: 17\n"
     ]
    },
    {
     "data": {
      "text/plain": [
       "0.6180324554443359"
      ]
     },
     "execution_count": 9,
     "metadata": {},
     "output_type": "execute_result"
    }
   ],
   "source": [
    "f(x) = x^3 - 2x + 1\n",
    "bisection(0, 0.75, f)"
   ]
  },
  {
   "cell_type": "markdown",
   "metadata": {},
   "source": [
    "And indeed it is converging to the same value (within our pre-set tolerance of $10^{-5}$). Now let's look at the other fixed-point schemes. To get the second one, divide everything by $x^{2}$ and isolate the $x$ that comes from the $x^{3}/x^{2}$ term. Then, to compute with it, we have $\\newline \\newline$\n",
    "$$\n",
    "p_{1} = \\frac{2}{0.5} - \\frac{1}{(0.5)^{2}} = 0, \\newline\n",
    "$$\n",
    "and we immediately run into the issue of not being able to compute $p_{2}$. This method, therefore, is not appropriate for the fixed-point iteration.\n",
    "\n",
    "The third scheme can be derived by dividing by $x$ and taking the square root after isolating $x^{2}$. With this scheme, we have $\\newline \\newline$\n",
    "$$\n",
    "p_{1} = \\sqrt{2 - \\frac{1}{0.5}} = 0, \\newline\n",
    "$$\n",
    "and the same conclusion as before holds.\n",
    "\n",
    "The final scheme can be derived by simply isolating $x^{3}$ and taking the cube root of both sides. With this scheme, we have $\\newline \\newline$\n",
    "$$\n",
    "p_{1} = -\\sqrt[3]{1 - 2(0.5)} = 0, \\newline\n",
    "p_{2} = -\\sqrt[3]{1 - 2(0)} = -1, \\newline\n",
    "p_{3} = -\\sqrt[3]{1 - 2(-1)} \\approx -1.4422, \\newline\n",
    "p_{4} = -\\sqrt[3]{1 - 2(-1.4422)} \\approx -1.5720. \\newline\n",
    "$$\n",
    "This algorithm works as well, but now to find a different fixed point! This shows that different schemes can produce different fixed points for the same problem, even without changing the initial guess!"
   ]
  },
  {
   "cell_type": "code",
   "execution_count": 10,
   "metadata": {},
   "outputs": [
    {
     "name": "stdout",
     "output_type": "stream",
     "text": [
      "Old p: 0.5, New p: -0.0, n: 1\n",
      "Old p: -0.0, New p: -1.0, n: 2\n",
      "Old p: -1.0, New p: -1.4422495703074083, n: 3\n",
      "Old p: -1.4422495703074083, New p: -1.5719727376444834, n: 4\n",
      "Old p: -1.5719727376444834, New p: -1.6062186989787173, n: 5\n",
      "Old p: -1.6062186989787173, New p: -1.615019684022682, n: 6\n",
      "Old p: -1.615019684022682, New p: -1.6172660496985691, n: 7\n",
      "Old p: -1.6172660496985691, New p: -1.6178384140338298, n: 8\n",
      "Old p: -1.6178384140338298, New p: -1.617984185287484, n: 9\n",
      "Old p: -1.617984185287484, New p: -1.618021306497235, n: 10\n",
      "Old p: -1.618021306497235, New p: -1.6180307592838077, n: 11\n"
     ]
    },
    {
     "data": {
      "text/plain": [
       "-1.6180307592838077"
      ]
     },
     "execution_count": 10,
     "metadata": {},
     "output_type": "execute_result"
    }
   ],
   "source": [
    "p(x) = -cbrt(1 - 2*x)\n",
    "fixed_point(1/2, p)"
   ]
  }
 ],
 "metadata": {
  "kernelspec": {
   "display_name": "Julia 1.8.1",
   "language": "julia",
   "name": "julia-1.8"
  },
  "language_info": {
   "file_extension": ".jl",
   "mimetype": "application/julia",
   "name": "julia",
   "version": "1.8.1"
  }
 },
 "nbformat": 4,
 "nbformat_minor": 4
}
