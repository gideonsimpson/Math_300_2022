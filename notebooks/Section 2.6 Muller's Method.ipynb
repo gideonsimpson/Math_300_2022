{
 "cells": [
  {
   "cell_type": "markdown",
   "id": "d5b9bce4-3cda-486d-830e-160d57debf5a",
   "metadata": {},
   "source": [
    "# Muller's Method for Complex Roots"
   ]
  },
  {
   "cell_type": "code",
   "execution_count": null,
   "id": "e12e8e5a-eaab-4991-84aa-072031c5d638",
   "metadata": {},
   "outputs": [],
   "source": [
    "using Printf"
   ]
  },
  {
   "cell_type": "code",
   "execution_count": null,
   "id": "ac081d6e-7ec8-4994-b910-058dfdeeec2a",
   "metadata": {},
   "outputs": [],
   "source": [
    "function newton(f, df, p0, n_max, rel_tol; verbose = true)\n",
    "    \n",
    "    converged = false;\n",
    "    p = p0;\n",
    "    p_old = p0;\n",
    "\n",
    "    for i in 1:n_max\n",
    "\n",
    "        p = p_old - f(p_old)/df(p_old);\n",
    "        \n",
    "        if verbose\n",
    "            @printf(\" %d: p = %.15g + i %.15g, |f(p)| = %g\\n\", i, real(p), imag(p), abs(f(p)));\n",
    "        end\n",
    "\n",
    "        \n",
    "        if (i>1)\n",
    "            if abs(p-p_old)/abs(p)< rel_tol\n",
    "                converged = true;\n",
    "                break\n",
    "            end\n",
    "        end\n",
    "\n",
    "        p_old = p;\n",
    "\n",
    "    end\n",
    "    \n",
    "    if !converged\n",
    "        @printf(\"ERROR: Did not converge after %d iterations\\n\", n_max);\n",
    "    end\n",
    "\n",
    "    return p\n",
    "    \n",
    "end"
   ]
  },
  {
   "cell_type": "code",
   "execution_count": null,
   "id": "2f8727f3-417e-432c-b5e5-3bef53dee5aa",
   "metadata": {},
   "outputs": [],
   "source": [
    "function muller(f, p0, p1, p2, n_max, rel_tol; verbose = true)\n",
    "    \n",
    "    converged = false;\n",
    "    p = p2;\n",
    "\n",
    "    for i in 1:n_max\n",
    "\n",
    "        # solve for the constants a, b, and c\n",
    "        c = f(p2);\n",
    "        A = [(p0-p2)^2 p0-p2; (p1-p2)^2 p1-p2 ];\n",
    "        x = A\\[f(p0)-c; f(p1)-c];\n",
    "        a = x[1];\n",
    "        b = x[2];\n",
    "        \n",
    "        # take the root with larger denominator\n",
    "        if abs(b + sqrt(b^2-4*a*c))> abs(b - sqrt(b^2-4*a*c))\n",
    "            p = p2 - 2*c/(b + sqrt(b^2-4*a*c));\n",
    "        else\n",
    "            p = p2 - 2*c/(b - sqrt(b^2-4*a*c));            \n",
    "        end\n",
    "        \n",
    "        if verbose\n",
    "            @printf(\" %d: p = %.15g + i %.15g, |f(p)| = %g\\n\", i, \n",
    "                real(p), imag(p), abs(f(p)));\n",
    "        end\n",
    "\n",
    "        \n",
    "        if (i>1)\n",
    "            if abs(p-p2)/abs(p)< rel_tol\n",
    "                converged = true;\n",
    "                break\n",
    "            end\n",
    "        end\n",
    "\n",
    "        # update entries\n",
    "        p0 = p1;\n",
    "        p1 = p2;\n",
    "        p2 = p;\n",
    "\n",
    "    end\n",
    "    \n",
    "    if !converged\n",
    "        @printf(\"ERROR: Did not converge after %d iterations\\n\", n_max);\n",
    "    end\n",
    "\n",
    "    return p\n",
    "    \n",
    "end"
   ]
  },
  {
   "cell_type": "markdown",
   "id": "03b5a74a-49fb-49f6-9a39-041a93834928",
   "metadata": {},
   "source": [
    "## Example 1\n",
    "Find a complex root of\n",
    "$$\n",
    "x^3 -1\n",
    "$$"
   ]
  },
  {
   "cell_type": "code",
   "execution_count": null,
   "id": "7954775d-0dbb-4454-a832-f6d82d9a7915",
   "metadata": {},
   "outputs": [],
   "source": [
    "f = x-> x^3 - 1;\n",
    "df = x->3*x^2;\n",
    "p0 = 0+1 * im;\n",
    "rel_tol = 1e-8;\n",
    "n_max = 100;\n",
    "\n",
    "p = newton(f, df, p0, n_max, rel_tol);"
   ]
  },
  {
   "cell_type": "code",
   "execution_count": null,
   "id": "9b523377-c5b6-4358-9c70-8b8688a16d6b",
   "metadata": {},
   "outputs": [],
   "source": [
    "f = x-> x^3 - 1;\n",
    "p0 = -1. + 1*im;\n",
    "p1 = 0. + 1*im;\n",
    "p2 = 0. + 2*im;\n",
    "\n",
    "rel_tol = 1e-8;\n",
    "n_max = 100;\n",
    "\n",
    "p = muller(f, p0, p1, p2, n_max, rel_tol);"
   ]
  },
  {
   "cell_type": "markdown",
   "id": "58807ea9-3528-45a8-9738-5c33235ecb5f",
   "metadata": {},
   "source": [
    "## Example 2\n",
    "Find a complex root of\n",
    "$$\n",
    "x^4 - 3x^3+x^2+x+1\n",
    "$$"
   ]
  },
  {
   "cell_type": "code",
   "execution_count": null,
   "id": "d2f037ad-06b5-4202-a49e-347efc71d8a5",
   "metadata": {},
   "outputs": [],
   "source": [
    "f = x-> x^4-3*x^3 +x^2 +x + 1;\n",
    "p0 = 0.5 + 0*im;\n",
    "p1 = -0.5 + 0*im;\n",
    "p2 = 0.0 + 9*im;\n",
    "\n",
    "rel_tol = 1e-8;\n",
    "n_max = 100;\n",
    "\n",
    "p = muller(f, p0, p1, p2, n_max, rel_tol);"
   ]
  },
  {
   "cell_type": "code",
   "execution_count": null,
   "id": "560e28b4-df64-4ac7-a7c5-00b32234abc2",
   "metadata": {},
   "outputs": [],
   "source": []
  }
 ],
 "metadata": {
  "kernelspec": {
   "display_name": "Julia 1.8.2",
   "language": "julia",
   "name": "julia-1.8"
  },
  "language_info": {
   "file_extension": ".jl",
   "mimetype": "application/julia",
   "name": "julia",
   "version": "1.8.2"
  }
 },
 "nbformat": 4,
 "nbformat_minor": 5
}
